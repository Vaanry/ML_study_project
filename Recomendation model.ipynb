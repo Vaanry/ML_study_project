{
 "cells": [
  {
   "cell_type": "markdown",
   "id": "bbc66fe9",
   "metadata": {},
   "source": [
    "В текущем задании вам предстоит построить рекомендательную систему постов в социальной сети. В качестве базовых сырых данных вы будете использовать подготовленные заранее командой курса таблицы.\n",
    "С точки зрения разработки вам будет необходимо реализовать сервис, который будет для каждого юзера в любой момент времени возвращать посты, которые пользователю покажут в его ленте соцсети.\n",
    "Метрика для проверки качества модели - hitrate@5.\n",
    "\n",
    "Описание данных\n",
    " \n",
    "Таблица user_data\n",
    "Cодержит информацию о всех пользователях соц.сети.\n",
    "\n",
    "age:\t    Возраст пользователя (в профиле)\n",
    "city:\t    Город пользователя (в профиле)\n",
    "country:\tСтрана пользователя (в профиле)\n",
    "exp_group:\tЭкспериментальная группа: некоторая зашифрованная категория\n",
    "gender:\t    Пол пользователя\n",
    "id:\t        Уникальный идентификатор пользователя\n",
    "os:\t        Операционная система устройства, с которого происходит пользование соц.сетью\n",
    "source:\t    Пришел ли пользователь в приложение с органического трафика или с рекламы\n",
    "\n",
    "Таблица post_text_df\n",
    "Содержит информацию о постах и уникальный ID каждой единицы с соответствующим ей текстом и топиком.\n",
    "\n",
    "id:\t    Уникальный идентификатор поста\n",
    "text:\tТекстовое содержание поста\n",
    "topic:\tОсновная тематика\n",
    "\n",
    "Таблица feed_data\n",
    "Содержит историю о просмотренных постах для каждого юзера в изучаемый период.\n",
    "\n",
    "timestamp:\tВремя, когда был произведен просмотр\n",
    "user_id:\tid пользователя, который совершил просмотр\n",
    "post_id:\tid просмотренного поста\n",
    "action:\t    Тип действия: просмотр или лайк\n",
    "target: \t1 у просмотров, если почти сразу после просмотра был совершен лайк, иначе 0. У действий like пропущенное значение.\n",
    "\n",
    "\n",
    "Оптимизация HitRate@5\n",
    "Для начала напомним, как устроена метрика. Она принимает значение 1, если среди предложенных 5 рекомендаций хотя бы 1 получила в итоге like от пользователя. Даже если все 5 предложенных постов в итоге будут оценены пользователем, все равно hitrate будет равен 1. Метрика бинарная! В противном случае, если ни один из предложенных постов не был оценен пользователем, hitrate  принимает значение 0. Эту метрику мы хотим максимизировать.\n",
    "\n",
    "Валидация\n",
    "В рамках задачи вам необходимо будет предсказывать посты для тех же юзеров, что и есть в текущей выборке, но в будущем. Следовательно, валидацию стоит организовать таким же образом. "
   ]
  },
  {
   "cell_type": "code",
   "execution_count": 1,
   "id": "6ea77b8e",
   "metadata": {},
   "outputs": [],
   "source": [
    "# Имортируем библиотеки\n",
    "\n",
    "import pandas as pd\n",
    "import psycopg2\n",
    "import warnings\n",
    "warnings.filterwarnings('ignore')\n",
    "import numpy as np"
   ]
  },
  {
   "cell_type": "code",
   "execution_count": 2,
   "id": "82497e8f",
   "metadata": {},
   "outputs": [
    {
     "data": {
      "text/html": [
       "<div>\n",
       "<style scoped>\n",
       "    .dataframe tbody tr th:only-of-type {\n",
       "        vertical-align: middle;\n",
       "    }\n",
       "\n",
       "    .dataframe tbody tr th {\n",
       "        vertical-align: top;\n",
       "    }\n",
       "\n",
       "    .dataframe thead th {\n",
       "        text-align: right;\n",
       "    }\n",
       "</style>\n",
       "<table border=\"1\" class=\"dataframe\">\n",
       "  <thead>\n",
       "    <tr style=\"text-align: right;\">\n",
       "      <th></th>\n",
       "      <th>user_id</th>\n",
       "      <th>gender</th>\n",
       "      <th>age</th>\n",
       "      <th>country</th>\n",
       "      <th>city</th>\n",
       "      <th>exp_group</th>\n",
       "      <th>os</th>\n",
       "      <th>source</th>\n",
       "    </tr>\n",
       "  </thead>\n",
       "  <tbody>\n",
       "    <tr>\n",
       "      <th>0</th>\n",
       "      <td>200</td>\n",
       "      <td>1</td>\n",
       "      <td>34</td>\n",
       "      <td>Russia</td>\n",
       "      <td>Degtyarsk</td>\n",
       "      <td>3</td>\n",
       "      <td>Android</td>\n",
       "      <td>ads</td>\n",
       "    </tr>\n",
       "    <tr>\n",
       "      <th>1</th>\n",
       "      <td>201</td>\n",
       "      <td>0</td>\n",
       "      <td>37</td>\n",
       "      <td>Russia</td>\n",
       "      <td>Abakan</td>\n",
       "      <td>0</td>\n",
       "      <td>Android</td>\n",
       "      <td>ads</td>\n",
       "    </tr>\n",
       "    <tr>\n",
       "      <th>2</th>\n",
       "      <td>202</td>\n",
       "      <td>1</td>\n",
       "      <td>17</td>\n",
       "      <td>Russia</td>\n",
       "      <td>Smolensk</td>\n",
       "      <td>4</td>\n",
       "      <td>Android</td>\n",
       "      <td>ads</td>\n",
       "    </tr>\n",
       "    <tr>\n",
       "      <th>3</th>\n",
       "      <td>203</td>\n",
       "      <td>0</td>\n",
       "      <td>18</td>\n",
       "      <td>Russia</td>\n",
       "      <td>Moscow</td>\n",
       "      <td>1</td>\n",
       "      <td>iOS</td>\n",
       "      <td>ads</td>\n",
       "    </tr>\n",
       "    <tr>\n",
       "      <th>4</th>\n",
       "      <td>204</td>\n",
       "      <td>0</td>\n",
       "      <td>36</td>\n",
       "      <td>Russia</td>\n",
       "      <td>Anzhero-Sudzhensk</td>\n",
       "      <td>3</td>\n",
       "      <td>Android</td>\n",
       "      <td>ads</td>\n",
       "    </tr>\n",
       "  </tbody>\n",
       "</table>\n",
       "</div>"
      ],
      "text/plain": [
       "   user_id  gender  age country               city  exp_group       os source\n",
       "0      200       1   34  Russia          Degtyarsk          3  Android    ads\n",
       "1      201       0   37  Russia             Abakan          0  Android    ads\n",
       "2      202       1   17  Russia           Smolensk          4  Android    ads\n",
       "3      203       0   18  Russia             Moscow          1      iOS    ads\n",
       "4      204       0   36  Russia  Anzhero-Sudzhensk          3  Android    ads"
      ]
     },
     "execution_count": 2,
     "metadata": {},
     "output_type": "execute_result"
    }
   ],
   "source": [
    "# Загружаем данные и сохраняем их на всякий случай на диске\n",
    "\n",
    "user_data = pd.read_sql(\n",
    "    \"\"\"SELECT * FROM public.user_data\"\"\",\n",
    "    con=\"postgresql://robot-secret\"\n",
    "        \"postgres.lab.karpov.courses:secret\"\n",
    ")\n",
    "\n",
    "user_data.head()"
   ]
  },
  {
   "cell_type": "code",
   "execution_count": 3,
   "id": "1ba039f8",
   "metadata": {},
   "outputs": [
    {
     "data": {
      "text/plain": [
       "(163205, 8)"
      ]
     },
     "execution_count": 3,
     "metadata": {},
     "output_type": "execute_result"
    }
   ],
   "source": [
    "user_data.shape"
   ]
  },
  {
   "cell_type": "code",
   "execution_count": 4,
   "id": "7ed54a24",
   "metadata": {},
   "outputs": [
    {
     "data": {
      "text/plain": [
       "163205"
      ]
     },
     "execution_count": 4,
     "metadata": {},
     "output_type": "execute_result"
    }
   ],
   "source": [
    "user_data['user_id'].nunique()"
   ]
  },
  {
   "cell_type": "code",
   "execution_count": 5,
   "id": "6ded357d",
   "metadata": {},
   "outputs": [],
   "source": [
    "user_data.to_csv('user_data.csv')"
   ]
  },
  {
   "cell_type": "code",
   "execution_count": 6,
   "id": "8fb8df27",
   "metadata": {},
   "outputs": [
    {
     "data": {
      "text/html": [
       "<div>\n",
       "<style scoped>\n",
       "    .dataframe tbody tr th:only-of-type {\n",
       "        vertical-align: middle;\n",
       "    }\n",
       "\n",
       "    .dataframe tbody tr th {\n",
       "        vertical-align: top;\n",
       "    }\n",
       "\n",
       "    .dataframe thead th {\n",
       "        text-align: right;\n",
       "    }\n",
       "</style>\n",
       "<table border=\"1\" class=\"dataframe\">\n",
       "  <thead>\n",
       "    <tr style=\"text-align: right;\">\n",
       "      <th></th>\n",
       "      <th>post_id</th>\n",
       "      <th>text</th>\n",
       "      <th>topic</th>\n",
       "    </tr>\n",
       "  </thead>\n",
       "  <tbody>\n",
       "    <tr>\n",
       "      <th>0</th>\n",
       "      <td>1</td>\n",
       "      <td>UK economy facing major risks\\n\\nThe UK manufa...</td>\n",
       "      <td>business</td>\n",
       "    </tr>\n",
       "    <tr>\n",
       "      <th>1</th>\n",
       "      <td>2</td>\n",
       "      <td>Aids and climate top Davos agenda\\n\\nClimate c...</td>\n",
       "      <td>business</td>\n",
       "    </tr>\n",
       "    <tr>\n",
       "      <th>2</th>\n",
       "      <td>3</td>\n",
       "      <td>Asian quake hits European shares\\n\\nShares in ...</td>\n",
       "      <td>business</td>\n",
       "    </tr>\n",
       "    <tr>\n",
       "      <th>3</th>\n",
       "      <td>4</td>\n",
       "      <td>India power shares jump on debut\\n\\nShares in ...</td>\n",
       "      <td>business</td>\n",
       "    </tr>\n",
       "    <tr>\n",
       "      <th>4</th>\n",
       "      <td>5</td>\n",
       "      <td>Lacroix label bought by US firm\\n\\nLuxury good...</td>\n",
       "      <td>business</td>\n",
       "    </tr>\n",
       "  </tbody>\n",
       "</table>\n",
       "</div>"
      ],
      "text/plain": [
       "   post_id                                               text     topic\n",
       "0        1  UK economy facing major risks\\n\\nThe UK manufa...  business\n",
       "1        2  Aids and climate top Davos agenda\\n\\nClimate c...  business\n",
       "2        3  Asian quake hits European shares\\n\\nShares in ...  business\n",
       "3        4  India power shares jump on debut\\n\\nShares in ...  business\n",
       "4        5  Lacroix label bought by US firm\\n\\nLuxury good...  business"
      ]
     },
     "execution_count": 6,
     "metadata": {},
     "output_type": "execute_result"
    }
   ],
   "source": [
    "post_df = pd.read_sql(\n",
    "    \"\"\"SELECT * FROM public.post_text_df\"\"\",\n",
    "    con=\"postgresql://robot-secret\"\n",
    "        \"postgres.lab.karpov.courses:secret\"\n",
    ")\n",
    "\n",
    "post_df.head()"
   ]
  },
  {
   "cell_type": "code",
   "execution_count": 7,
   "id": "6fa565ae",
   "metadata": {},
   "outputs": [],
   "source": [
    "post_df.to_csv('post_df.csv')"
   ]
  },
  {
   "cell_type": "code",
   "execution_count": 8,
   "id": "5d1d8b1c",
   "metadata": {},
   "outputs": [
    {
     "data": {
      "text/html": [
       "<div>\n",
       "<style scoped>\n",
       "    .dataframe tbody tr th:only-of-type {\n",
       "        vertical-align: middle;\n",
       "    }\n",
       "\n",
       "    .dataframe tbody tr th {\n",
       "        vertical-align: top;\n",
       "    }\n",
       "\n",
       "    .dataframe thead th {\n",
       "        text-align: right;\n",
       "    }\n",
       "</style>\n",
       "<table border=\"1\" class=\"dataframe\">\n",
       "  <thead>\n",
       "    <tr style=\"text-align: right;\">\n",
       "      <th></th>\n",
       "      <th>timestamp</th>\n",
       "      <th>user_id</th>\n",
       "      <th>post_id</th>\n",
       "      <th>action</th>\n",
       "      <th>target</th>\n",
       "    </tr>\n",
       "  </thead>\n",
       "  <tbody>\n",
       "    <tr>\n",
       "      <th>0</th>\n",
       "      <td>2021-11-10 20:22:48</td>\n",
       "      <td>145195</td>\n",
       "      <td>4738</td>\n",
       "      <td>view</td>\n",
       "      <td>0</td>\n",
       "    </tr>\n",
       "    <tr>\n",
       "      <th>1</th>\n",
       "      <td>2021-11-13 12:45:48</td>\n",
       "      <td>145195</td>\n",
       "      <td>2835</td>\n",
       "      <td>view</td>\n",
       "      <td>1</td>\n",
       "    </tr>\n",
       "    <tr>\n",
       "      <th>2</th>\n",
       "      <td>2021-11-13 12:48:30</td>\n",
       "      <td>145195</td>\n",
       "      <td>2835</td>\n",
       "      <td>like</td>\n",
       "      <td>0</td>\n",
       "    </tr>\n",
       "    <tr>\n",
       "      <th>3</th>\n",
       "      <td>2021-11-13 12:48:32</td>\n",
       "      <td>145195</td>\n",
       "      <td>4374</td>\n",
       "      <td>view</td>\n",
       "      <td>0</td>\n",
       "    </tr>\n",
       "    <tr>\n",
       "      <th>4</th>\n",
       "      <td>2021-11-13 12:51:07</td>\n",
       "      <td>145195</td>\n",
       "      <td>5534</td>\n",
       "      <td>view</td>\n",
       "      <td>0</td>\n",
       "    </tr>\n",
       "  </tbody>\n",
       "</table>\n",
       "</div>"
      ],
      "text/plain": [
       "            timestamp  user_id  post_id action  target\n",
       "0 2021-11-10 20:22:48   145195     4738   view       0\n",
       "1 2021-11-13 12:45:48   145195     2835   view       1\n",
       "2 2021-11-13 12:48:30   145195     2835   like       0\n",
       "3 2021-11-13 12:48:32   145195     4374   view       0\n",
       "4 2021-11-13 12:51:07   145195     5534   view       0"
      ]
     },
     "execution_count": 8,
     "metadata": {},
     "output_type": "execute_result"
    }
   ],
   "source": [
    "feed_data = pd.read_sql(\n",
    "    \"\"\"SELECT * FROM public.feed_data limit 100000\"\"\",\n",
    "    con=\"postgresql://robot-secret\"\n",
    "        \"postgres.lab.karpov.courses:secret\"\n",
    ")\n",
    "\n",
    "feed_data.head()"
   ]
  },
  {
   "cell_type": "code",
   "execution_count": 9,
   "id": "29d34f60",
   "metadata": {},
   "outputs": [],
   "source": [
    "feed_data.to_csv('feed_data.csv')"
   ]
  },
  {
   "cell_type": "code",
   "execution_count": 10,
   "id": "f6d8c44c",
   "metadata": {},
   "outputs": [
    {
     "data": {
      "text/html": [
       "<div>\n",
       "<style scoped>\n",
       "    .dataframe tbody tr th:only-of-type {\n",
       "        vertical-align: middle;\n",
       "    }\n",
       "\n",
       "    .dataframe tbody tr th {\n",
       "        vertical-align: top;\n",
       "    }\n",
       "\n",
       "    .dataframe thead th {\n",
       "        text-align: right;\n",
       "    }\n",
       "</style>\n",
       "<table border=\"1\" class=\"dataframe\">\n",
       "  <thead>\n",
       "    <tr style=\"text-align: right;\">\n",
       "      <th></th>\n",
       "      <th>timestamp</th>\n",
       "      <th>user_id</th>\n",
       "      <th>post_id</th>\n",
       "      <th>action</th>\n",
       "      <th>target</th>\n",
       "      <th>gender</th>\n",
       "      <th>age</th>\n",
       "      <th>country</th>\n",
       "      <th>city</th>\n",
       "      <th>exp_group</th>\n",
       "      <th>os</th>\n",
       "      <th>source</th>\n",
       "      <th>text</th>\n",
       "      <th>topic</th>\n",
       "    </tr>\n",
       "  </thead>\n",
       "  <tbody>\n",
       "    <tr>\n",
       "      <th>0</th>\n",
       "      <td>2021-11-10 20:22:48</td>\n",
       "      <td>145195</td>\n",
       "      <td>4738</td>\n",
       "      <td>view</td>\n",
       "      <td>0</td>\n",
       "      <td>0</td>\n",
       "      <td>21</td>\n",
       "      <td>Russia</td>\n",
       "      <td>Starokucherbayevo</td>\n",
       "      <td>0</td>\n",
       "      <td>iOS</td>\n",
       "      <td>organic</td>\n",
       "      <td>As a fan of the old Doctor Who, and after the ...</td>\n",
       "      <td>movie</td>\n",
       "    </tr>\n",
       "    <tr>\n",
       "      <th>1</th>\n",
       "      <td>2021-11-13 12:45:48</td>\n",
       "      <td>145195</td>\n",
       "      <td>2835</td>\n",
       "      <td>view</td>\n",
       "      <td>1</td>\n",
       "      <td>0</td>\n",
       "      <td>21</td>\n",
       "      <td>Russia</td>\n",
       "      <td>Starokucherbayevo</td>\n",
       "      <td>0</td>\n",
       "      <td>iOS</td>\n",
       "      <td>organic</td>\n",
       "      <td>I think even those devastated by #LoanChargeSc...</td>\n",
       "      <td>covid</td>\n",
       "    </tr>\n",
       "    <tr>\n",
       "      <th>2</th>\n",
       "      <td>2021-11-13 12:48:30</td>\n",
       "      <td>145195</td>\n",
       "      <td>2835</td>\n",
       "      <td>like</td>\n",
       "      <td>0</td>\n",
       "      <td>0</td>\n",
       "      <td>21</td>\n",
       "      <td>Russia</td>\n",
       "      <td>Starokucherbayevo</td>\n",
       "      <td>0</td>\n",
       "      <td>iOS</td>\n",
       "      <td>organic</td>\n",
       "      <td>I think even those devastated by #LoanChargeSc...</td>\n",
       "      <td>covid</td>\n",
       "    </tr>\n",
       "    <tr>\n",
       "      <th>3</th>\n",
       "      <td>2021-11-13 12:48:32</td>\n",
       "      <td>145195</td>\n",
       "      <td>4374</td>\n",
       "      <td>view</td>\n",
       "      <td>0</td>\n",
       "      <td>0</td>\n",
       "      <td>21</td>\n",
       "      <td>Russia</td>\n",
       "      <td>Starokucherbayevo</td>\n",
       "      <td>0</td>\n",
       "      <td>iOS</td>\n",
       "      <td>organic</td>\n",
       "      <td>This TVM seems to have polarised opinions amon...</td>\n",
       "      <td>movie</td>\n",
       "    </tr>\n",
       "    <tr>\n",
       "      <th>4</th>\n",
       "      <td>2021-11-13 12:51:07</td>\n",
       "      <td>145195</td>\n",
       "      <td>5534</td>\n",
       "      <td>view</td>\n",
       "      <td>0</td>\n",
       "      <td>0</td>\n",
       "      <td>21</td>\n",
       "      <td>Russia</td>\n",
       "      <td>Starokucherbayevo</td>\n",
       "      <td>0</td>\n",
       "      <td>iOS</td>\n",
       "      <td>organic</td>\n",
       "      <td>I havent laughed this much in a long time - or...</td>\n",
       "      <td>movie</td>\n",
       "    </tr>\n",
       "  </tbody>\n",
       "</table>\n",
       "</div>"
      ],
      "text/plain": [
       "            timestamp  user_id  post_id action  target  gender  age country  \\\n",
       "0 2021-11-10 20:22:48   145195     4738   view       0       0   21  Russia   \n",
       "1 2021-11-13 12:45:48   145195     2835   view       1       0   21  Russia   \n",
       "2 2021-11-13 12:48:30   145195     2835   like       0       0   21  Russia   \n",
       "3 2021-11-13 12:48:32   145195     4374   view       0       0   21  Russia   \n",
       "4 2021-11-13 12:51:07   145195     5534   view       0       0   21  Russia   \n",
       "\n",
       "                city  exp_group   os   source  \\\n",
       "0  Starokucherbayevo          0  iOS  organic   \n",
       "1  Starokucherbayevo          0  iOS  organic   \n",
       "2  Starokucherbayevo          0  iOS  organic   \n",
       "3  Starokucherbayevo          0  iOS  organic   \n",
       "4  Starokucherbayevo          0  iOS  organic   \n",
       "\n",
       "                                                text  topic  \n",
       "0  As a fan of the old Doctor Who, and after the ...  movie  \n",
       "1  I think even those devastated by #LoanChargeSc...  covid  \n",
       "2  I think even those devastated by #LoanChargeSc...  covid  \n",
       "3  This TVM seems to have polarised opinions amon...  movie  \n",
       "4  I havent laughed this much in a long time - or...  movie  "
      ]
     },
     "execution_count": 10,
     "metadata": {},
     "output_type": "execute_result"
    }
   ],
   "source": [
    "# Объединяем таблицу в единый датасет\n",
    "\n",
    "df = pd.merge(\n",
    "    feed_data,\n",
    "    user_data,\n",
    "    on='user_id',\n",
    "    how='left'\n",
    ")\n",
    "\n",
    "df = pd.merge(\n",
    "    df,\n",
    "    post_df,\n",
    "    on='post_id',\n",
    "    how='left'\n",
    ")\n",
    "\n",
    "df.head()"
   ]
  },
  {
   "cell_type": "code",
   "execution_count": 11,
   "id": "907fc665",
   "metadata": {},
   "outputs": [
    {
     "data": {
      "text/plain": [
       "timestamp    0\n",
       "user_id      0\n",
       "post_id      0\n",
       "action       0\n",
       "target       0\n",
       "gender       0\n",
       "age          0\n",
       "country      0\n",
       "city         0\n",
       "exp_group    0\n",
       "os           0\n",
       "source       0\n",
       "text         0\n",
       "topic        0\n",
       "dtype: int64"
      ]
     },
     "execution_count": 11,
     "metadata": {},
     "output_type": "execute_result"
    }
   ],
   "source": [
    "df.isna().sum()"
   ]
  },
  {
   "cell_type": "code",
   "execution_count": 12,
   "id": "8c023e15",
   "metadata": {},
   "outputs": [],
   "source": [
    "# Считаем количество постов с лайками\n",
    "\n",
    "likes = df.query('action==\"like\"').groupby(['user_id', 'post_id'], as_index=False)['target'].agg('count')\\\n",
    "        .rename(columns={'target':'like'})"
   ]
  },
  {
   "cell_type": "code",
   "execution_count": 13,
   "id": "185521b3",
   "metadata": {},
   "outputs": [
    {
     "data": {
      "text/plain": [
       "(10040, 3)"
      ]
     },
     "execution_count": 13,
     "metadata": {},
     "output_type": "execute_result"
    }
   ],
   "source": [
    "likes.shape"
   ]
  },
  {
   "cell_type": "code",
   "execution_count": 14,
   "id": "3e5caf91",
   "metadata": {},
   "outputs": [],
   "source": [
    "# Считаем количество постов с просмотрами, после которых сразу же был поставлен лайк\n",
    "\n",
    "views = df.query('action==\"view\"').groupby(['user_id', 'post_id'], as_index=False)['target'].agg('sum')\\\n",
    "        .rename(columns={'target':'lliked_view'})"
   ]
  },
  {
   "cell_type": "code",
   "execution_count": 15,
   "id": "ba7f6703",
   "metadata": {},
   "outputs": [
    {
     "data": {
      "text/plain": [
       "(10040, 4)"
      ]
     },
     "execution_count": 15,
     "metadata": {},
     "output_type": "execute_result"
    }
   ],
   "source": [
    "liked_views = views.merge(likes, on=['user_id', 'post_id'])\n",
    "liked_views.shape"
   ]
  },
  {
   "cell_type": "code",
   "execution_count": 16,
   "id": "29df12d3",
   "metadata": {},
   "outputs": [
    {
     "data": {
      "text/html": [
       "<div>\n",
       "<style scoped>\n",
       "    .dataframe tbody tr th:only-of-type {\n",
       "        vertical-align: middle;\n",
       "    }\n",
       "\n",
       "    .dataframe tbody tr th {\n",
       "        vertical-align: top;\n",
       "    }\n",
       "\n",
       "    .dataframe thead th {\n",
       "        text-align: right;\n",
       "    }\n",
       "</style>\n",
       "<table border=\"1\" class=\"dataframe\">\n",
       "  <thead>\n",
       "    <tr style=\"text-align: right;\">\n",
       "      <th></th>\n",
       "      <th>user_id</th>\n",
       "      <th>post_id</th>\n",
       "      <th>lliked_view</th>\n",
       "      <th>like</th>\n",
       "    </tr>\n",
       "  </thead>\n",
       "  <tbody>\n",
       "    <tr>\n",
       "      <th>0</th>\n",
       "      <td>29863</td>\n",
       "      <td>548</td>\n",
       "      <td>1</td>\n",
       "      <td>1</td>\n",
       "    </tr>\n",
       "    <tr>\n",
       "      <th>1</th>\n",
       "      <td>29863</td>\n",
       "      <td>1083</td>\n",
       "      <td>1</td>\n",
       "      <td>1</td>\n",
       "    </tr>\n",
       "    <tr>\n",
       "      <th>2</th>\n",
       "      <td>29863</td>\n",
       "      <td>1581</td>\n",
       "      <td>1</td>\n",
       "      <td>1</td>\n",
       "    </tr>\n",
       "    <tr>\n",
       "      <th>3</th>\n",
       "      <td>29863</td>\n",
       "      <td>4935</td>\n",
       "      <td>1</td>\n",
       "      <td>1</td>\n",
       "    </tr>\n",
       "    <tr>\n",
       "      <th>4</th>\n",
       "      <td>29863</td>\n",
       "      <td>5694</td>\n",
       "      <td>1</td>\n",
       "      <td>1</td>\n",
       "    </tr>\n",
       "  </tbody>\n",
       "</table>\n",
       "</div>"
      ],
      "text/plain": [
       "   user_id  post_id  lliked_view  like\n",
       "0    29863      548            1     1\n",
       "1    29863     1083            1     1\n",
       "2    29863     1581            1     1\n",
       "3    29863     4935            1     1\n",
       "4    29863     5694            1     1"
      ]
     },
     "execution_count": 16,
     "metadata": {},
     "output_type": "execute_result"
    }
   ],
   "source": [
    "liked_views.head()"
   ]
  },
  {
   "cell_type": "code",
   "execution_count": 17,
   "id": "e0bac289",
   "metadata": {},
   "outputs": [
    {
     "data": {
      "text/plain": [
       "1    9962\n",
       "2      76\n",
       "3       2\n",
       "Name: lliked_view, dtype: int64"
      ]
     },
     "execution_count": 17,
     "metadata": {},
     "output_type": "execute_result"
    }
   ],
   "source": [
    "liked_views.lliked_view.value_counts()"
   ]
  },
  {
   "cell_type": "markdown",
   "id": "a0b91770",
   "metadata": {},
   "source": [
    "Поскольку у всех просмотров в данной таблице target>0, то они все лайкнуты сразу после просмотра. \n",
    "Также их количество примерно равно количеству постов с like. Однако, из таблицы куда-то потерялись несколько постов с like - возможно, данные по их просмотру \"срезались\" при выгрузке. Таким образом, можно удалить из таблицы все посты с like, а по оставшимся постам с view посчитать среднее по таргету - так мы получим метрики, как часто пользователь ставит лайки и как часто ставят лайки этому посту."
   ]
  },
  {
   "cell_type": "code",
   "execution_count": 18,
   "id": "d73de5c5",
   "metadata": {},
   "outputs": [],
   "source": [
    "df = df.query('action==\"view\"')"
   ]
  },
  {
   "cell_type": "code",
   "execution_count": 20,
   "id": "00f2cae6",
   "metadata": {},
   "outputs": [],
   "source": [
    "user_likes = df.groupby('user_id')['target'].mean() #соотношение лайков и просмотров для каждого пользователя\n",
    "post_rate = df.groupby('post_id')['target'].mean()  #\"рейтинг\" каждого поста"
   ]
  },
  {
   "cell_type": "code",
   "execution_count": 21,
   "id": "c37c5aff",
   "metadata": {},
   "outputs": [],
   "source": [
    "# создадим колонки с рейтингом\n",
    "df['user_rate'] = df['user_id'].map(user_likes)\n",
    "df['post_rate'] = df['post_id'].map(post_rate)"
   ]
  },
  {
   "cell_type": "markdown",
   "id": "bc6135e4",
   "metadata": {},
   "source": [
    "Поскольку один пользователь может просматривать пост несколько раз, необходимо оставить только по одному просмотру на пост. Если пост лайкнут - значит оставить этот просмотр, если не лайнкут - оставить только один из просмотров."
   ]
  },
  {
   "cell_type": "code",
   "execution_count": 38,
   "id": "cdbbb6e9",
   "metadata": {},
   "outputs": [],
   "source": [
    "# сразу создадим дф с признаками пользователей\n",
    "user_features = user_data.merge(df[['user_id', 'user_rate']].drop_duplicates(), on='user_id', how='left')\\\n",
    "                .fillna(df['user_rate'].mean())"
   ]
  },
  {
   "cell_type": "code",
   "execution_count": 40,
   "id": "4d7f2585",
   "metadata": {},
   "outputs": [],
   "source": [
    "# для каждого поста оставим только минимальное время, которое будем считать временем публикации\n",
    "\n",
    "post_time = feed_data.groupby('post_id', as_index=False)['timestamp'].min()\n",
    "\n",
    "# сразу создадим дф с признаками постов\n",
    "post_features = post_df.merge(df[['post_id', 'post_rate']].drop_duplicates(), on='post_id', how='left')\\\n",
    "                .fillna(df['post_rate'].mean())\n",
    "\n",
    "post_features = post_features.merge(post_time, on='post_id', how='left')"
   ]
  },
  {
   "cell_type": "code",
   "execution_count": 23,
   "id": "a232dbe5",
   "metadata": {},
   "outputs": [
    {
     "data": {
      "text/plain": [
       "(10041, 3)"
      ]
     },
     "execution_count": 23,
     "metadata": {},
     "output_type": "execute_result"
    }
   ],
   "source": [
    "# создаём датафрейм, в котором будут только лайкнутые посты\n",
    "liked = df.query('target==1').groupby(['user_id', 'post_id'], as_index=False).size()\n",
    "liked.shape"
   ]
  },
  {
   "cell_type": "code",
   "execution_count": 24,
   "id": "0562c149",
   "metadata": {},
   "outputs": [
    {
     "data": {
      "text/plain": [
       "array([1, 2, 3, 4], dtype=int64)"
      ]
     },
     "execution_count": 24,
     "metadata": {},
     "output_type": "execute_result"
    }
   ],
   "source": [
    "# создаём датафрейм с просмотрами без лайков\n",
    "non_liked = df.query('target==0').groupby(['user_id', 'post_id'], as_index=False).size()\n",
    "\n",
    "# смотрим, сколько раз один и тот же пост может попадаться одному и тому же пользователю\n",
    "non_liked['size'].unique()"
   ]
  },
  {
   "cell_type": "code",
   "execution_count": 25,
   "id": "b13eb4b4",
   "metadata": {},
   "outputs": [],
   "source": [
    "# далее для каждой пары юзер-пост проверяем, есть ли этот пост среди лайков.\n",
    "# если нет - ставим 0, если есть - 1. Далее отфильтровываем 1.\n",
    "for user in non_liked['user_id'].unique():\n",
    "    liked_posts = liked[liked['user_id']==user]['post_id'].to_list()\n",
    "    for post in non_liked[non_liked['user_id']==user]['post_id'].unique():\n",
    "        if post not in liked_posts:\n",
    "            non_liked.loc[(non_liked['user_id']==user)&(non_liked['post_id']==post), 'size'] = 0\n",
    "        else:\n",
    "            non_liked.loc[(non_liked['user_id']==user)&(non_liked['post_id']==post), 'size'] = 1"
   ]
  },
  {
   "cell_type": "code",
   "execution_count": 26,
   "id": "ffe52907",
   "metadata": {},
   "outputs": [
    {
     "data": {
      "text/plain": [
       "array([0, 1], dtype=int64)"
      ]
     },
     "execution_count": 26,
     "metadata": {},
     "output_type": "execute_result"
    }
   ],
   "source": [
    "non_liked['size'].unique()"
   ]
  },
  {
   "cell_type": "code",
   "execution_count": 27,
   "id": "a46ffe0b",
   "metadata": {},
   "outputs": [
    {
     "data": {
      "text/plain": [
       "(75686, 3)"
      ]
     },
     "execution_count": 27,
     "metadata": {},
     "output_type": "execute_result"
    }
   ],
   "source": [
    "non_liked = non_liked.query('size==0') # оставим только посты без лайков\n",
    "non_liked.shape"
   ]
  },
  {
   "cell_type": "markdown",
   "id": "9e206573",
   "metadata": {},
   "source": [
    "Таким образом, у нас есть 2 датафрейма: в одном для каждого пользователя содержатся только уникальные посты с лайками, а в другом - только уникальные посты с просмотрами, без лайков."
   ]
  },
  {
   "cell_type": "code",
   "execution_count": 28,
   "id": "7dc34dc4",
   "metadata": {},
   "outputs": [
    {
     "data": {
      "text/html": [
       "<div>\n",
       "<style scoped>\n",
       "    .dataframe tbody tr th:only-of-type {\n",
       "        vertical-align: middle;\n",
       "    }\n",
       "\n",
       "    .dataframe tbody tr th {\n",
       "        vertical-align: top;\n",
       "    }\n",
       "\n",
       "    .dataframe thead th {\n",
       "        text-align: right;\n",
       "    }\n",
       "</style>\n",
       "<table border=\"1\" class=\"dataframe\">\n",
       "  <thead>\n",
       "    <tr style=\"text-align: right;\">\n",
       "      <th></th>\n",
       "      <th>user_id</th>\n",
       "      <th>post_id</th>\n",
       "      <th>target</th>\n",
       "    </tr>\n",
       "  </thead>\n",
       "  <tbody>\n",
       "    <tr>\n",
       "      <th>0</th>\n",
       "      <td>29863</td>\n",
       "      <td>1269</td>\n",
       "      <td>0</td>\n",
       "    </tr>\n",
       "    <tr>\n",
       "      <th>1</th>\n",
       "      <td>29863</td>\n",
       "      <td>1297</td>\n",
       "      <td>0</td>\n",
       "    </tr>\n",
       "    <tr>\n",
       "      <th>2</th>\n",
       "      <td>29863</td>\n",
       "      <td>1524</td>\n",
       "      <td>0</td>\n",
       "    </tr>\n",
       "    <tr>\n",
       "      <th>3</th>\n",
       "      <td>29863</td>\n",
       "      <td>1601</td>\n",
       "      <td>0</td>\n",
       "    </tr>\n",
       "    <tr>\n",
       "      <th>4</th>\n",
       "      <td>29863</td>\n",
       "      <td>1806</td>\n",
       "      <td>0</td>\n",
       "    </tr>\n",
       "  </tbody>\n",
       "</table>\n",
       "</div>"
      ],
      "text/plain": [
       "   user_id  post_id  target\n",
       "0    29863     1269       0\n",
       "1    29863     1297       0\n",
       "2    29863     1524       0\n",
       "3    29863     1601       0\n",
       "4    29863     1806       0"
      ]
     },
     "execution_count": 28,
     "metadata": {},
     "output_type": "execute_result"
    }
   ],
   "source": [
    "user_posts = pd.concat([non_liked, liked]).rename(columns={'size':'target'}) # объединим всё в единый дф\n",
    "user_posts.head()"
   ]
  },
  {
   "cell_type": "code",
   "execution_count": 41,
   "id": "cf4b0b49",
   "metadata": {
    "scrolled": true
   },
   "outputs": [
    {
     "data": {
      "text/html": [
       "<div>\n",
       "<style scoped>\n",
       "    .dataframe tbody tr th:only-of-type {\n",
       "        vertical-align: middle;\n",
       "    }\n",
       "\n",
       "    .dataframe tbody tr th {\n",
       "        vertical-align: top;\n",
       "    }\n",
       "\n",
       "    .dataframe thead th {\n",
       "        text-align: right;\n",
       "    }\n",
       "</style>\n",
       "<table border=\"1\" class=\"dataframe\">\n",
       "  <thead>\n",
       "    <tr style=\"text-align: right;\">\n",
       "      <th></th>\n",
       "      <th>user_id</th>\n",
       "      <th>post_id</th>\n",
       "      <th>target</th>\n",
       "      <th>gender</th>\n",
       "      <th>age</th>\n",
       "      <th>country</th>\n",
       "      <th>city</th>\n",
       "      <th>exp_group</th>\n",
       "      <th>os</th>\n",
       "      <th>source</th>\n",
       "      <th>user_rate</th>\n",
       "      <th>text</th>\n",
       "      <th>topic</th>\n",
       "      <th>post_rate</th>\n",
       "      <th>timestamp</th>\n",
       "    </tr>\n",
       "  </thead>\n",
       "  <tbody>\n",
       "    <tr>\n",
       "      <th>0</th>\n",
       "      <td>29863</td>\n",
       "      <td>1269</td>\n",
       "      <td>0</td>\n",
       "      <td>0</td>\n",
       "      <td>19</td>\n",
       "      <td>Russia</td>\n",
       "      <td>Tambov</td>\n",
       "      <td>1</td>\n",
       "      <td>iOS</td>\n",
       "      <td>ads</td>\n",
       "      <td>0.241379</td>\n",
       "      <td>Blair and Brown criticised by MPs\\n\\nLabour MP...</td>\n",
       "      <td>politics</td>\n",
       "      <td>0.103448</td>\n",
       "      <td>2021-10-01 21:54:51</td>\n",
       "    </tr>\n",
       "    <tr>\n",
       "      <th>1</th>\n",
       "      <td>29863</td>\n",
       "      <td>1297</td>\n",
       "      <td>0</td>\n",
       "      <td>0</td>\n",
       "      <td>19</td>\n",
       "      <td>Russia</td>\n",
       "      <td>Tambov</td>\n",
       "      <td>1</td>\n",
       "      <td>iOS</td>\n",
       "      <td>ads</td>\n",
       "      <td>0.241379</td>\n",
       "      <td>Could rivalry overshadow election?\\n\\nTony Bla...</td>\n",
       "      <td>politics</td>\n",
       "      <td>0.095238</td>\n",
       "      <td>2021-10-02 14:07:02</td>\n",
       "    </tr>\n",
       "    <tr>\n",
       "      <th>2</th>\n",
       "      <td>29863</td>\n",
       "      <td>1524</td>\n",
       "      <td>0</td>\n",
       "      <td>0</td>\n",
       "      <td>19</td>\n",
       "      <td>Russia</td>\n",
       "      <td>Tambov</td>\n",
       "      <td>1</td>\n",
       "      <td>iOS</td>\n",
       "      <td>ads</td>\n",
       "      <td>0.241379</td>\n",
       "      <td>Italy aim to rattle England\\n\\nItaly coach Joh...</td>\n",
       "      <td>sport</td>\n",
       "      <td>0.142857</td>\n",
       "      <td>2021-11-17 12:30:06</td>\n",
       "    </tr>\n",
       "    <tr>\n",
       "      <th>3</th>\n",
       "      <td>29863</td>\n",
       "      <td>1601</td>\n",
       "      <td>0</td>\n",
       "      <td>0</td>\n",
       "      <td>19</td>\n",
       "      <td>Russia</td>\n",
       "      <td>Tambov</td>\n",
       "      <td>1</td>\n",
       "      <td>iOS</td>\n",
       "      <td>ads</td>\n",
       "      <td>0.241379</td>\n",
       "      <td>Isinbayeva claims new world best\\n\\nPole vault...</td>\n",
       "      <td>sport</td>\n",
       "      <td>0.000000</td>\n",
       "      <td>2021-10-01 20:27:04</td>\n",
       "    </tr>\n",
       "    <tr>\n",
       "      <th>4</th>\n",
       "      <td>29863</td>\n",
       "      <td>1806</td>\n",
       "      <td>0</td>\n",
       "      <td>0</td>\n",
       "      <td>19</td>\n",
       "      <td>Russia</td>\n",
       "      <td>Tambov</td>\n",
       "      <td>1</td>\n",
       "      <td>iOS</td>\n",
       "      <td>ads</td>\n",
       "      <td>0.241379</td>\n",
       "      <td>Campbell rescues Arsenal\\n\\nSol Campbell prove...</td>\n",
       "      <td>sport</td>\n",
       "      <td>0.157895</td>\n",
       "      <td>2021-10-02 11:03:11</td>\n",
       "    </tr>\n",
       "  </tbody>\n",
       "</table>\n",
       "</div>"
      ],
      "text/plain": [
       "   user_id  post_id  target  gender  age country    city  exp_group   os  \\\n",
       "0    29863     1269       0       0   19  Russia  Tambov          1  iOS   \n",
       "1    29863     1297       0       0   19  Russia  Tambov          1  iOS   \n",
       "2    29863     1524       0       0   19  Russia  Tambov          1  iOS   \n",
       "3    29863     1601       0       0   19  Russia  Tambov          1  iOS   \n",
       "4    29863     1806       0       0   19  Russia  Tambov          1  iOS   \n",
       "\n",
       "  source  user_rate                                               text  \\\n",
       "0    ads   0.241379  Blair and Brown criticised by MPs\\n\\nLabour MP...   \n",
       "1    ads   0.241379  Could rivalry overshadow election?\\n\\nTony Bla...   \n",
       "2    ads   0.241379  Italy aim to rattle England\\n\\nItaly coach Joh...   \n",
       "3    ads   0.241379  Isinbayeva claims new world best\\n\\nPole vault...   \n",
       "4    ads   0.241379  Campbell rescues Arsenal\\n\\nSol Campbell prove...   \n",
       "\n",
       "      topic  post_rate           timestamp  \n",
       "0  politics   0.103448 2021-10-01 21:54:51  \n",
       "1  politics   0.095238 2021-10-02 14:07:02  \n",
       "2     sport   0.142857 2021-11-17 12:30:06  \n",
       "3     sport   0.000000 2021-10-01 20:27:04  \n",
       "4     sport   0.157895 2021-10-02 11:03:11  "
      ]
     },
     "execution_count": 41,
     "metadata": {},
     "output_type": "execute_result"
    }
   ],
   "source": [
    "user_features = user_posts.merge(user_feat, on='user_id', how='left') # объединим этот дф с признаками пользователей и постов\n",
    "user_features = user_features.merge(post_features, on='post_id', how='left')\n",
    "user_features.head()"
   ]
  },
  {
   "cell_type": "code",
   "execution_count": 42,
   "id": "6077ef75",
   "metadata": {},
   "outputs": [
    {
     "data": {
      "text/plain": [
       "(85727, 15)"
      ]
     },
     "execution_count": 42,
     "metadata": {},
     "output_type": "execute_result"
    }
   ],
   "source": [
    "user_features.shape"
   ]
  },
  {
   "cell_type": "code",
   "execution_count": 43,
   "id": "a5c1a303",
   "metadata": {},
   "outputs": [],
   "source": [
    "user_features.to_csv('user_features.csv')"
   ]
  },
  {
   "cell_type": "code",
   "execution_count": 202,
   "id": "4469f71c",
   "metadata": {},
   "outputs": [],
   "source": [
    "### Разделим на трейн-тест\n",
    "user_features = user_features.sort_values(by='timestamp')\n",
    "\n",
    "train = user_features.iloc[:-20000].copy()\n",
    "test = user_features.iloc[-20000:].copy()"
   ]
  },
  {
   "cell_type": "code",
   "execution_count": 203,
   "id": "81612de8",
   "metadata": {},
   "outputs": [],
   "source": [
    "train_new = train.drop(['user_id', 'post_id',  \n",
    "                         'exp_group', 'text', 'timestamp'], axis=1) \n",
    "\n",
    "test_new = test.drop(['user_id','post_id',  \n",
    "                        'exp_group', 'text', 'timestamp'], axis=1) \n",
    "\n",
    "# удаляем лишние колонки. exp_group будет использована в АВ тестировании, а text - в другой модели с использованием NLP."
   ]
  },
  {
   "cell_type": "code",
   "execution_count": 204,
   "id": "a296b3b2",
   "metadata": {},
   "outputs": [
    {
     "data": {
      "text/html": [
       "<div>\n",
       "<style scoped>\n",
       "    .dataframe tbody tr th:only-of-type {\n",
       "        vertical-align: middle;\n",
       "    }\n",
       "\n",
       "    .dataframe tbody tr th {\n",
       "        vertical-align: top;\n",
       "    }\n",
       "\n",
       "    .dataframe thead th {\n",
       "        text-align: right;\n",
       "    }\n",
       "</style>\n",
       "<table border=\"1\" class=\"dataframe\">\n",
       "  <thead>\n",
       "    <tr style=\"text-align: right;\">\n",
       "      <th></th>\n",
       "      <th>target</th>\n",
       "      <th>gender</th>\n",
       "      <th>age</th>\n",
       "      <th>country</th>\n",
       "      <th>city</th>\n",
       "      <th>os</th>\n",
       "      <th>source</th>\n",
       "      <th>user_rate</th>\n",
       "      <th>topic</th>\n",
       "      <th>post_rate</th>\n",
       "    </tr>\n",
       "  </thead>\n",
       "  <tbody>\n",
       "    <tr>\n",
       "      <th>24210</th>\n",
       "      <td>0</td>\n",
       "      <td>1</td>\n",
       "      <td>29</td>\n",
       "      <td>Russia</td>\n",
       "      <td>Lipetsk</td>\n",
       "      <td>Android</td>\n",
       "      <td>ads</td>\n",
       "      <td>0.042208</td>\n",
       "      <td>politics</td>\n",
       "      <td>0.086957</td>\n",
       "    </tr>\n",
       "    <tr>\n",
       "      <th>54656</th>\n",
       "      <td>0</td>\n",
       "      <td>1</td>\n",
       "      <td>27</td>\n",
       "      <td>Ukraine</td>\n",
       "      <td>Kamianske</td>\n",
       "      <td>iOS</td>\n",
       "      <td>organic</td>\n",
       "      <td>0.234513</td>\n",
       "      <td>politics</td>\n",
       "      <td>0.151515</td>\n",
       "    </tr>\n",
       "    <tr>\n",
       "      <th>84051</th>\n",
       "      <td>1</td>\n",
       "      <td>0</td>\n",
       "      <td>27</td>\n",
       "      <td>Russia</td>\n",
       "      <td>Volzhsk</td>\n",
       "      <td>Android</td>\n",
       "      <td>organic</td>\n",
       "      <td>0.056686</td>\n",
       "      <td>tech</td>\n",
       "      <td>0.200000</td>\n",
       "    </tr>\n",
       "    <tr>\n",
       "      <th>54420</th>\n",
       "      <td>0</td>\n",
       "      <td>1</td>\n",
       "      <td>30</td>\n",
       "      <td>Russia</td>\n",
       "      <td>Roslavl</td>\n",
       "      <td>Android</td>\n",
       "      <td>organic</td>\n",
       "      <td>0.078049</td>\n",
       "      <td>politics</td>\n",
       "      <td>0.157895</td>\n",
       "    </tr>\n",
       "    <tr>\n",
       "      <th>57282</th>\n",
       "      <td>0</td>\n",
       "      <td>0</td>\n",
       "      <td>38</td>\n",
       "      <td>Russia</td>\n",
       "      <td>Moscow</td>\n",
       "      <td>iOS</td>\n",
       "      <td>organic</td>\n",
       "      <td>0.094241</td>\n",
       "      <td>business</td>\n",
       "      <td>0.055556</td>\n",
       "    </tr>\n",
       "  </tbody>\n",
       "</table>\n",
       "</div>"
      ],
      "text/plain": [
       "       target  gender  age  country       city       os   source  user_rate  \\\n",
       "24210       0       1   29   Russia    Lipetsk  Android      ads   0.042208   \n",
       "54656       0       1   27  Ukraine  Kamianske      iOS  organic   0.234513   \n",
       "84051       1       0   27   Russia    Volzhsk  Android  organic   0.056686   \n",
       "54420       0       1   30   Russia    Roslavl  Android  organic   0.078049   \n",
       "57282       0       0   38   Russia     Moscow      iOS  organic   0.094241   \n",
       "\n",
       "          topic  post_rate  \n",
       "24210  politics   0.086957  \n",
       "54656  politics   0.151515  \n",
       "84051      tech   0.200000  \n",
       "54420  politics   0.157895  \n",
       "57282  business   0.055556  "
      ]
     },
     "execution_count": 204,
     "metadata": {},
     "output_type": "execute_result"
    }
   ],
   "source": [
    "train_new.head()"
   ]
  },
  {
   "cell_type": "code",
   "execution_count": 205,
   "id": "63005d1b",
   "metadata": {},
   "outputs": [],
   "source": [
    "X_train = train_new.drop('target', axis=1)\n",
    "X_test = test_new.drop('target', axis=1)\n",
    "\n",
    "y_train = train['target']\n",
    "y_test = test['target']"
   ]
  },
  {
   "cell_type": "code",
   "execution_count": 206,
   "id": "9d491cfc",
   "metadata": {},
   "outputs": [],
   "source": [
    "cat_features=['gender', 'country', 'city', 'os', 'source', 'topic'] # обозначаем категориальные колонки"
   ]
  },
  {
   "cell_type": "code",
   "execution_count": null,
   "id": "d6d75aed",
   "metadata": {},
   "outputs": [],
   "source": [
    "# Создаём и обучаем модель\n",
    "\n",
    "from catboost import CatBoostClassifier\n",
    "\n",
    "catboost = CatBoostClassifier()\n",
    "\n",
    "\n",
    "catboost.fit(X_train,\n",
    "             y_train,\n",
    "             cat_features=cat_features,\n",
    "             )"
   ]
  },
  {
   "cell_type": "code",
   "execution_count": null,
   "id": "e76034db",
   "metadata": {},
   "outputs": [],
   "source": [
    "# Для каждой строки в тексте добавляем предсказанную вероятность лайка, а также само предсказание\n",
    "\n",
    "test_new = user_features.iloc[-20000:].copy()\n",
    "\n",
    "X_test['prob'] = catboost.predict_proba(X_test)[:, 1]\n",
    "X_test['pred'] = catboost.predict(X_test)\n",
    "X_test['target'] = y_test\n",
    "X_test['user_id'] = test_new['user_id']\n",
    "X_test['post_id'] = test_new['post_id']"
   ]
  },
  {
   "cell_type": "code",
   "execution_count": 209,
   "id": "d8937432",
   "metadata": {},
   "outputs": [
    {
     "name": "stdout",
     "output_type": "stream",
     "text": [
      "Среднее HitRate@5 по пользователям из теста: 0.82\n"
     ]
    }
   ],
   "source": [
    "# Считаем целевую метрику\n",
    "\n",
    "hitrate5 = []\n",
    "\n",
    "for user in X_test['user_id'].unique():\n",
    "    part = X_test[X_test['user_id']==user]\n",
    "    if sum(part['pred']==1)==0:\n",
    "        continue # пропускаем пользователя, если для него нет рекомендаций\n",
    "        \n",
    "    # далее для каждого пользователя отбираем посты, для которых предсказаны лайки, и сортируем их по вероятности\n",
    "    elif sum(part[part['pred']==1].sort_values(by='prob', ascending=False)[:5]['target']==1)>0:\n",
    "        hitrate5.append(1)\n",
    "    else:\n",
    "        hitrate5.append(0)\n",
    "        \n",
    "print(f\"Среднее HitRate@5 по пользователям из теста: {round(np.mean(hitrate5), 2)}\")"
   ]
  },
  {
   "cell_type": "code",
   "execution_count": 210,
   "id": "c3fa2d2b",
   "metadata": {},
   "outputs": [],
   "source": [
    "# Сохраняем модель\n",
    "catboost.save_model('catboost_model',\n",
    "                           format=\"cbm\")"
   ]
  },
  {
   "cell_type": "code",
   "execution_count": null,
   "id": "84c3635e",
   "metadata": {},
   "outputs": [],
   "source": []
  }
 ],
 "metadata": {
  "kernelspec": {
   "display_name": "Python 3 (ipykernel)",
   "language": "python",
   "name": "python3"
  },
  "language_info": {
   "codemirror_mode": {
    "name": "ipython",
    "version": 3
   },
   "file_extension": ".py",
   "mimetype": "text/x-python",
   "name": "python",
   "nbconvert_exporter": "python",
   "pygments_lexer": "ipython3",
   "version": "3.9.13"
  }
 },
 "nbformat": 4,
 "nbformat_minor": 5
}
